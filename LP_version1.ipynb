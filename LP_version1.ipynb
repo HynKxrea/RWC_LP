{
 "cells": [
  {
   "cell_type": "code",
   "execution_count": 1,
   "metadata": {},
   "outputs": [
    {
     "name": "stdout",
     "output_type": "stream",
     "text": [
      "LangSmith 설정이 완료되었습니다.\n",
      "현재 프로젝트: Real World Challenge_LP SOLVER\n"
     ]
    }
   ],
   "source": [
    "from dotenv import load_dotenv\n",
    "import os\n",
    "\n",
    "load_dotenv()\n",
    "os.environ[\"LANGCHAIN_PROJECT\"] = \"Real World Challenge_LP SOLVER\"\n",
    "\n",
    "print(\"LangSmith 설정이 완료되었습니다.\")\n",
    "print(f\"현재 프로젝트: {os.getenv('LANGCHAIN_PROJECT')}\")"
   ]
  },
  {
   "cell_type": "code",
   "execution_count": 2,
   "metadata": {},
   "outputs": [
    {
     "ename": "FileNotFoundError",
     "evalue": "[Errno 2] No such file or directory: '/Users/user/Desktop/Real World Challenge/Example Set/LP23.png'",
     "output_type": "error",
     "traceback": [
      "\u001b[0;31m---------------------------------------------------------------------------\u001b[0m",
      "\u001b[0;31mFileNotFoundError\u001b[0m                         Traceback (most recent call last)",
      "Cell \u001b[0;32mIn[2], line 36\u001b[0m\n\u001b[1;32m     33\u001b[0m \u001b[38;5;66;03m#위와 달리 multimodal에게 프롬프트를 같이 준다\u001b[39;00m\n\u001b[1;32m     35\u001b[0m IMAGE_PATH_FROM_FILE \u001b[38;5;241m=\u001b[39m \u001b[38;5;124m\"\u001b[39m\u001b[38;5;124m/Users/user/Desktop/Real World Challenge/Example Set/LP23.png\u001b[39m\u001b[38;5;124m\"\u001b[39m\n\u001b[0;32m---> 36\u001b[0m math \u001b[38;5;241m=\u001b[39m \u001b[43mmultimodal_llm_with_prompt\u001b[49m\u001b[38;5;241;43m.\u001b[39;49m\u001b[43minvoke\u001b[49m\u001b[43m(\u001b[49m\u001b[43mIMAGE_PATH_FROM_FILE\u001b[49m\u001b[43m)\u001b[49m\n\u001b[1;32m     38\u001b[0m \u001b[38;5;28mprint\u001b[39m(math)\n",
      "File \u001b[0;32m~/Documents/GitHub/RWC_LP/langchain_env/lib/python3.11/site-packages/langchain_teddynote/models.py:96\u001b[0m, in \u001b[0;36mMultiModal.invoke\u001b[0;34m(self, image_url, system_prompt, user_prompt, display_image)\u001b[0m\n\u001b[1;32m     93\u001b[0m \u001b[38;5;28;01mdef\u001b[39;00m \u001b[38;5;21minvoke\u001b[39m(\n\u001b[1;32m     94\u001b[0m     \u001b[38;5;28mself\u001b[39m, image_url, system_prompt\u001b[38;5;241m=\u001b[39m\u001b[38;5;28;01mNone\u001b[39;00m, user_prompt\u001b[38;5;241m=\u001b[39m\u001b[38;5;28;01mNone\u001b[39;00m, display_image\u001b[38;5;241m=\u001b[39m\u001b[38;5;28;01mTrue\u001b[39;00m\n\u001b[1;32m     95\u001b[0m ):\n\u001b[0;32m---> 96\u001b[0m     messages \u001b[38;5;241m=\u001b[39m \u001b[38;5;28;43mself\u001b[39;49m\u001b[38;5;241;43m.\u001b[39;49m\u001b[43mcreate_messages\u001b[49m\u001b[43m(\u001b[49m\n\u001b[1;32m     97\u001b[0m \u001b[43m        \u001b[49m\u001b[43mimage_url\u001b[49m\u001b[43m,\u001b[49m\u001b[43m \u001b[49m\u001b[43msystem_prompt\u001b[49m\u001b[43m,\u001b[49m\u001b[43m \u001b[49m\u001b[43muser_prompt\u001b[49m\u001b[43m,\u001b[49m\u001b[43m \u001b[49m\u001b[43mdisplay_image\u001b[49m\n\u001b[1;32m     98\u001b[0m \u001b[43m    \u001b[49m\u001b[43m)\u001b[49m\n\u001b[1;32m     99\u001b[0m     response \u001b[38;5;241m=\u001b[39m \u001b[38;5;28mself\u001b[39m\u001b[38;5;241m.\u001b[39mmodel\u001b[38;5;241m.\u001b[39minvoke(messages)\n\u001b[1;32m    100\u001b[0m     \u001b[38;5;28;01mreturn\u001b[39;00m response\u001b[38;5;241m.\u001b[39mcontent\n",
      "File \u001b[0;32m~/Documents/GitHub/RWC_LP/langchain_env/lib/python3.11/site-packages/langchain_teddynote/models.py:61\u001b[0m, in \u001b[0;36mMultiModal.create_messages\u001b[0;34m(self, image_url, system_prompt, user_prompt, display_image)\u001b[0m\n\u001b[1;32m     58\u001b[0m \u001b[38;5;28;01mdef\u001b[39;00m \u001b[38;5;21mcreate_messages\u001b[39m(\n\u001b[1;32m     59\u001b[0m     \u001b[38;5;28mself\u001b[39m, image_url, system_prompt\u001b[38;5;241m=\u001b[39m\u001b[38;5;28;01mNone\u001b[39;00m, user_prompt\u001b[38;5;241m=\u001b[39m\u001b[38;5;28;01mNone\u001b[39;00m, display_image\u001b[38;5;241m=\u001b[39m\u001b[38;5;28;01mTrue\u001b[39;00m\n\u001b[1;32m     60\u001b[0m ):\n\u001b[0;32m---> 61\u001b[0m     encoded_image \u001b[38;5;241m=\u001b[39m \u001b[38;5;28;43mself\u001b[39;49m\u001b[38;5;241;43m.\u001b[39;49m\u001b[43mencode_image\u001b[49m\u001b[43m(\u001b[49m\u001b[43mimage_url\u001b[49m\u001b[43m)\u001b[49m\n\u001b[1;32m     62\u001b[0m     \u001b[38;5;28;01mif\u001b[39;00m display_image:\n\u001b[1;32m     63\u001b[0m         \u001b[38;5;28mself\u001b[39m\u001b[38;5;241m.\u001b[39mdisplay_image(encoded_image)\n",
      "File \u001b[0;32m~/Documents/GitHub/RWC_LP/langchain_env/lib/python3.11/site-packages/langchain_teddynote/models.py:53\u001b[0m, in \u001b[0;36mMultiModal.encode_image\u001b[0;34m(self, image_path)\u001b[0m\n\u001b[1;32m     51\u001b[0m     \u001b[38;5;28;01mreturn\u001b[39;00m \u001b[38;5;28mself\u001b[39m\u001b[38;5;241m.\u001b[39mencode_image_from_url(image_path)\n\u001b[1;32m     52\u001b[0m \u001b[38;5;28;01melse\u001b[39;00m:\n\u001b[0;32m---> 53\u001b[0m     \u001b[38;5;28;01mreturn\u001b[39;00m \u001b[38;5;28;43mself\u001b[39;49m\u001b[38;5;241;43m.\u001b[39;49m\u001b[43mencode_image_from_file\u001b[49m\u001b[43m(\u001b[49m\u001b[43mimage_path\u001b[49m\u001b[43m)\u001b[49m\n",
      "File \u001b[0;32m~/Documents/GitHub/RWC_LP/langchain_env/lib/python3.11/site-packages/langchain_teddynote/models.py:37\u001b[0m, in \u001b[0;36mMultiModal.encode_image_from_file\u001b[0;34m(self, file_path)\u001b[0m\n\u001b[1;32m     36\u001b[0m \u001b[38;5;28;01mdef\u001b[39;00m \u001b[38;5;21mencode_image_from_file\u001b[39m(\u001b[38;5;28mself\u001b[39m, file_path):\n\u001b[0;32m---> 37\u001b[0m     \u001b[38;5;28;01mwith\u001b[39;00m \u001b[38;5;28;43mopen\u001b[39;49m\u001b[43m(\u001b[49m\u001b[43mfile_path\u001b[49m\u001b[43m,\u001b[49m\u001b[43m \u001b[49m\u001b[38;5;124;43m\"\u001b[39;49m\u001b[38;5;124;43mrb\u001b[39;49m\u001b[38;5;124;43m\"\u001b[39;49m\u001b[43m)\u001b[49m \u001b[38;5;28;01mas\u001b[39;00m image_file:\n\u001b[1;32m     38\u001b[0m         image_content \u001b[38;5;241m=\u001b[39m image_file\u001b[38;5;241m.\u001b[39mread()\n\u001b[1;32m     39\u001b[0m         file_ext \u001b[38;5;241m=\u001b[39m os\u001b[38;5;241m.\u001b[39mpath\u001b[38;5;241m.\u001b[39msplitext(file_path)[\u001b[38;5;241m1\u001b[39m]\u001b[38;5;241m.\u001b[39mlower()\n",
      "\u001b[0;31mFileNotFoundError\u001b[0m: [Errno 2] No such file or directory: '/Users/user/Desktop/Real World Challenge/Example Set/LP23.png'"
     ]
    }
   ],
   "source": [
    "from langchain_openai import ChatOpenAI\n",
    "from langchain_core.prompts import PromptTemplate\n",
    "from langchain_core.output_parsers import StrOutputParser\n",
    "from langchain_teddynote.models import MultiModal\n",
    "\n",
    "image_to_code = ChatOpenAI(\n",
    "    temperature = 0, #0에 가까울 수록 정제된, 2에 가까울 수록 창의적인\n",
    "    model_name = \"gpt-4o\" #사용할 OpenAI 모델을 지정\n",
    ")\n",
    "\n",
    "systemprompt = \"\"\"\n",
    "    LP 과목의 이해를 돕는 조교야. 주어진 LP 문제 이미지 혹은 문제의 상황을 형식에 맞게 글로 다시 적어줘.\n",
    "    형식에 대한 예시도 줄게. 예시처럼 적어줘.\n",
    "\n",
    "    예시 :\n",
    "    maximize 3x_1 + 2x_2\n",
    "    subject to\n",
    "    x_1 + 2x_2 <= 4\n",
    "    x_1 + x_2 <= 2\n",
    "    x_1, x_2 >= 0\n",
    "    \n",
    "    \"\"\"    \n",
    "userprompt = \"\"\"\n",
    "        다음의 문제상황 혹은 LP 문제 이미지를 해당하는 형식에 맞게 LP Formulation 해줘. \n",
    "        분, 시간 단위에 유의해서 분으로 단위를 통일해서 적어줘.\n",
    "        금액은 만원이 아니라 원 단위로 적어줘.\n",
    "        LaTeX 코드 형식으로 말고 일반 텍스트 형식으로 출력해줘.\n",
    "        \"\"\"\n",
    "#질문 내용\n",
    "#LP 문제 이미지를 형식에 맞게 글로 다시 적어줘.\n",
    "\n",
    "multimodal_llm_with_prompt = MultiModal(image_to_code, system_prompt = systemprompt, user_prompt = userprompt)\n",
    "#위와 달리 multimodal에게 프롬프트를 같이 준다\n",
    "\n",
    "IMAGE_PATH_FROM_FILE = \"/Users/user/Desktop/Real World Challenge/Example Set/LP23.png\"\n",
    "math = multimodal_llm_with_prompt.invoke(IMAGE_PATH_FROM_FILE)\n",
    "\n",
    "print(math)"
   ]
  },
  {
   "cell_type": "code",
   "execution_count": 29,
   "metadata": {},
   "outputs": [
    {
     "name": "stdout",
     "output_type": "stream",
     "text": [
      "```python\n",
      "import numpy as np\n",
      "from scipy.optimize import linprog\n",
      "\n",
      "# Objective function: minimize Z = -x_1 - 2x_2 - 2x_3\n",
      "# Since it's a minimization problem, set i = 0\n",
      "i = 0\n",
      "c = [-1, -2, -2]  # Coefficients for the objective function\n",
      "\n",
      "# Constraints\n",
      "# Original constraints:\n",
      "# 5x_1 + 2x_2 + 3x_3 <= 15\n",
      "# x_1 + 4x_2 + 2x_3 <= 12\n",
      "# 2x_1 + x_3 <= 8\n",
      "\n",
      "# All constraints are <=, so we can use them as is\n",
      "A = [\n",
      "    [5, 2, 3],\n",
      "    [1, 4, 2],\n",
      "    [2, 0, 1]\n",
      "]\n",
      "b = [15, 12, 8]\n",
      "\n",
      "# Solve the linear programming problem\n",
      "result = linprog(c, A_ub=A, b_ub=b, bounds=(0, None))\n",
      "\n",
      "# Check the result\n",
      "if result.success:\n",
      "    if i == 0:\n",
      "        print(\"Objective value:\", result.fun)\n",
      "    else:\n",
      "        print(\"Objective value:\", -result.fun)\n",
      "    print(\"Optimal Solution:\", result.x)\n",
      "else:\n",
      "    if result.status == 2:\n",
      "        print(\"It is infeasible\")\n",
      "    elif result.status == 3:\n",
      "        print(\"It is unbounded\")\n",
      "```\n"
     ]
    }
   ],
   "source": [
    "math_to_code = ChatOpenAI(model=\"gpt-4o-mini\", temperature=0)\n",
    "prompt = PromptTemplate.from_template(\n",
    "    \"\"\"\n",
    "    {problem}을 SciPy 라이브러리의 optimize 모듈의 linprog 함수를 사용해서 풀 수 있도록 코드를 만들어.\n",
    "    문제를 풀기 전에 목점함수가 min문제면 i=0, max문제면 i=1로 값을 할당해줘.\n",
    "    또 제약 부등식을 코드에 넣기 전에 상수가 있는 우변이 더 크게 가르키도록 변형하고 코드에 넣어줘. \n",
    "    그리고 마지막 결과값을 출력할 때 i==0이면 그냥 출력하고, i==1이면 Objective value에 -1을 곱해서 출력해.\n",
    "\n",
    "    제약 부등식을 부등호의 방향을 기준으로 먼저 구분하여 주석을 작성해.\n",
    "    그리고 부등호의 방향이 >= 인 것이 있으면 양 변에 -1 을 곱해서 식을 재구성하여\n",
    "    수정된 제약식을 다시 주석으로 작성해.\n",
    "    그 뒤에 그 수정된 제약식을 바탕으로 matrix를 알맞게 만들어줘.\n",
    "\n",
    "    그리고 Optimal Solution도 출력해줘.\n",
    "    바로 실행할 수 있도록 코드만 적어줘.\n",
    "\n",
    "    결과 출력은 아래의 형태로 해줘.\n",
    "\n",
    "    If the solution is infeasible, then print out with 'print(\"It is infeasible\")'.\n",
    "    If the solution is unbounded, then print out with 'print(\"It is unbounded\")'.\n",
    "    \"\"\"\n",
    "    )\n",
    "chain = prompt | math_to_code | StrOutputParser()\n",
    "\n",
    "code = chain.invoke(\n",
    "    {\"problem\": math})\n",
    "\n",
    "print(code)"
   ]
  },
  {
   "cell_type": "code",
   "execution_count": 30,
   "metadata": {},
   "outputs": [
    {
     "name": "stdout",
     "output_type": "stream",
     "text": [
      "Objective value: -10.5\n",
      "Optimal Solution: [0.   0.75 4.5 ]\n",
      "\n"
     ]
    }
   ],
   "source": [
    "from langchain_experimental.tools import PythonREPLTool\n",
    "from langchain_core.runnables import RunnableLambda\n",
    "from langchain.tools import tool\n",
    "from typing import List, Dict, Annotated\n",
    "from langchain_experimental.utilities import PythonREPL\n",
    "\n",
    "@tool()\n",
    "def python_repl_tool(code : Annotated[str, \"The python code to execute to generate outputs\"]):\n",
    "    \"\"\" use this to execute python code.\n",
    "    If you want to see the output of a value, you should print it out with 'print(...)'\n",
    "    This is visible to use the user\n",
    "    \"\"\"\n",
    "    result = \"\"\n",
    "    try:\n",
    "        python_tool = PythonREPLTool()\n",
    "        return python_tool.invoke(code)\n",
    "    except BaseException as e:\n",
    "        print(\"Failed to execute.\", e)\n",
    "    finally:\n",
    "        return result\n",
    "    \n",
    "\n",
    "py_tool = PythonREPLTool()\n",
    "\n",
    "print(py_tool.invoke(code))"
   ]
  },
  {
   "cell_type": "code",
   "execution_count": null,
   "metadata": {},
   "outputs": [],
   "source": []
  }
 ],
 "metadata": {
  "kernelspec": {
   "display_name": "langchain_env",
   "language": "python",
   "name": "python3"
  },
  "language_info": {
   "codemirror_mode": {
    "name": "ipython",
    "version": 3
   },
   "file_extension": ".py",
   "mimetype": "text/x-python",
   "name": "python",
   "nbconvert_exporter": "python",
   "pygments_lexer": "ipython3",
   "version": "3.11.9"
  }
 },
 "nbformat": 4,
 "nbformat_minor": 2
}
